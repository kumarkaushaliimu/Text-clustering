{
  "nbformat": 4,
  "nbformat_minor": 0,
  "metadata": {
    "colab": {
      "provenance": [],
      "authorship_tag": "ABX9TyNOcnPnsrpjFtZ61OUJFAjg"
    },
    "kernelspec": {
      "name": "python3",
      "display_name": "Python 3"
    },
    "language_info": {
      "name": "python"
    }
  },
  "cells": [
    {
      "cell_type": "code",
      "execution_count": 2,
      "metadata": {
        "id": "HrMbCM5Hsmoo"
      },
      "outputs": [],
      "source": [
        "#Importing Libraries\n",
        "import numpy as np\n",
        "import pandas as pd\n",
        "import matplotlib.pyplot as plt\n",
        "import seaborn as sns\n",
        "from sklearn.feature_extraction.text import TfidfVectorizer\n",
        "from sklearn.cluster import KMeans\n",
        "from wordcloud import WordCloud\n",
        "from sklearn import metrics\n",
        "from sklearn.decomposition import PCA\n",
        "from sklearn.metrics import silhouette_score"
      ]
    },
    {
      "cell_type": "code",
      "source": [
        "import spacy  # For preprocessing\n",
        "\n",
        "import logging  # Setting up the loggings to monitor gensim\n",
        "logging.basicConfig(format=\"%(levelname)s - %(asctime)s: %(message)s\", datefmt= '%H:%M:%S', level=logging.INFO)"
      ],
      "metadata": {
        "colab": {
          "base_uri": "https://localhost:8080/"
        },
        "id": "TPUuPTwbs8cI",
        "outputId": "d249b4c6-1969-4b19-90fb-11dabd40d9df"
      },
      "execution_count": 3,
      "outputs": [
        {
          "output_type": "stream",
          "name": "stderr",
          "text": [
            "/usr/local/lib/python3.8/dist-packages/torch/cuda/__init__.py:497: UserWarning: Can't initialize NVML\n",
            "  warnings.warn(\"Can't initialize NVML\")\n"
          ]
        }
      ]
    },
    {
      "cell_type": "code",
      "source": [
        "from nltk.stem import WordNetLemmatizer\n",
        "from nltk.tokenize import word_tokenize\n",
        "import spacy\n",
        "import multiprocessing\n",
        "from gensim.models.phrases import Phrases, Phraser\n",
        "import nltk\n",
        "nltk.download('stopwords')\n",
        "from nltk.corpus import stopwords\n",
        "from gensim.models import Word2Vec\n"
      ],
      "metadata": {
        "colab": {
          "base_uri": "https://localhost:8080/"
        },
        "id": "x76LjmLrs_OF",
        "outputId": "36979a04-8178-42aa-aacf-18f19fdfb276"
      },
      "execution_count": 4,
      "outputs": [
        {
          "output_type": "stream",
          "name": "stderr",
          "text": [
            "[nltk_data] Downloading package stopwords to /root/nltk_data...\n",
            "[nltk_data]   Package stopwords is already up-to-date!\n"
          ]
        }
      ]
    },
    {
      "cell_type": "code",
      "source": [
        "#Importing dataset\n",
        "from sklearn.datasets import fetch_20newsgroups"
      ],
      "metadata": {
        "id": "RA38EFE2tv-y"
      },
      "execution_count": 5,
      "outputs": []
    },
    {
      "cell_type": "code",
      "source": [
        "#Reading the 20Newsgroup dataset \n",
        "df = fetch_20newsgroups(subset='all',remove=('headers', 'footers', 'quotes'),shuffle=True, random_state=102)"
      ],
      "metadata": {
        "id": "_LhMzYBes_Rb"
      },
      "execution_count": 6,
      "outputs": []
    },
    {
      "cell_type": "code",
      "source": [
        "df.filenames.shape"
      ],
      "metadata": {
        "colab": {
          "base_uri": "https://localhost:8080/"
        },
        "id": "5wIfwUs2t5QZ",
        "outputId": "df698254-fa4d-4b47-cd24-7d89405b2171"
      },
      "execution_count": 7,
      "outputs": [
        {
          "output_type": "execute_result",
          "data": {
            "text/plain": [
              "(18846,)"
            ]
          },
          "metadata": {},
          "execution_count": 7
        }
      ]
    },
    {
      "cell_type": "code",
      "source": [
        "#No of labels\n",
        "labels = df.target\n",
        "n=len(np.unique(labels))\n",
        "n"
      ],
      "metadata": {
        "colab": {
          "base_uri": "https://localhost:8080/"
        },
        "id": "07aSWOyWt5Tk",
        "outputId": "ceef5d30-28b3-4fba-be4c-3b0fc3436fc3"
      },
      "execution_count": 8,
      "outputs": [
        {
          "output_type": "execute_result",
          "data": {
            "text/plain": [
              "20"
            ]
          },
          "metadata": {},
          "execution_count": 8
        }
      ]
    },
    {
      "cell_type": "code",
      "source": [
        "#An example of data\n",
        "df.data[1]"
      ],
      "metadata": {
        "colab": {
          "base_uri": "https://localhost:8080/",
          "height": 105
        },
        "id": "jWG1I8mjt5W7",
        "outputId": "e888fe35-3cd3-46fb-8e47-477648084d37"
      },
      "execution_count": 9,
      "outputs": [
        {
          "output_type": "execute_result",
          "data": {
            "text/plain": [
              "\"Software that comes together with the VideoBlaster\\nis designed to work together with the SoundBlaster\\n(from the same manufacturer).\\n\\nSince I do not own a SoundBlaster: is there a possibility\\nto use the PC Speaker driver to play audio files for\\nthe VideoBlaster (.AVI = audio video interleave files) ?\\n\\nI think what I should have is a device driver for\\nthe Media Player that controls the PC Speaker Driver\\ninstead of the SoundBlaster card (something like MCISPKR.DRV).\\n\\nHas anybody heard of such a driver?\\nOr am I on the wrong track?\\n\\nAny information on this appreciated!\\n\\n(Please send e-mail, since I don't watch this group regularly.)\\n\""
            ],
            "application/vnd.google.colaboratory.intrinsic+json": {
              "type": "string"
            }
          },
          "metadata": {},
          "execution_count": 9
        }
      ]
    },
    {
      "cell_type": "code",
      "source": [
        "#TF IDF\n",
        "vectorizer = TfidfVectorizer(stop_words='english')"
      ],
      "metadata": {
        "id": "JD5hmqEyt5Zb"
      },
      "execution_count": 10,
      "outputs": []
    },
    {
      "cell_type": "code",
      "source": [
        "features = vectorizer.fit_transform(df.data)"
      ],
      "metadata": {
        "id": "C_sL_wKHvl4E"
      },
      "execution_count": 11,
      "outputs": []
    },
    {
      "cell_type": "code",
      "source": [
        "features.shape"
      ],
      "metadata": {
        "colab": {
          "base_uri": "https://localhost:8080/"
        },
        "id": "rQutdZuKzQs0",
        "outputId": "4f0069bc-44cb-4eed-9254-7c2f6c1c4507"
      },
      "execution_count": 12,
      "outputs": [
        {
          "output_type": "execute_result",
          "data": {
            "text/plain": [
              "(18846, 134101)"
            ]
          },
          "metadata": {},
          "execution_count": 12
        }
      ]
    },
    {
      "cell_type": "code",
      "source": [
        "#reduced_data = PCA(n_components=2,random_state=0).fit_transform(features.toarray())"
      ],
      "metadata": {
        "id": "u9hwAC5qzZB0"
      },
      "execution_count": null,
      "outputs": []
    },
    {
      "cell_type": "code",
      "source": [
        "# Finding optimum number of clusters\n",
        "ssd = []\n",
        "K = range(1,21)\n",
        "for k in K:\n",
        "    km = KMeans(n_clusters=k,init='k-means++',max_iter=50)\n",
        "    km = km.fit(features)#K means clustering\n",
        "    ssd.append(km.inertia_)"
      ],
      "metadata": {
        "id": "DSMa6Ficvl66"
      },
      "execution_count": 13,
      "outputs": []
    },
    {
      "cell_type": "code",
      "source": [
        "plt.plot(ssd)"
      ],
      "metadata": {
        "colab": {
          "base_uri": "https://localhost:8080/",
          "height": 282
        },
        "id": "CtL_V5lLwSgW",
        "outputId": "4dd0d4da-91a2-49b5-9d1f-c393e05f2f00"
      },
      "execution_count": 14,
      "outputs": [
        {
          "output_type": "execute_result",
          "data": {
            "text/plain": [
              "[<matplotlib.lines.Line2D at 0x7f86113f03d0>]"
            ]
          },
          "metadata": {},
          "execution_count": 14
        },
        {
          "output_type": "display_data",
          "data": {
            "text/plain": [
              "<Figure size 432x288 with 1 Axes>"
            ],
            "image/png": "[encoded data removed]"
          },
          "metadata": {
            "needs_background": "light"
          }
        }
      ]
    },
    {
      "cell_type": "code",
      "source": [
        "#K means clustering for 20 clusters\n",
        "kmeans = KMeans(n_clusters=20,init='k-means++',max_iter=50)\n",
        "kmeans.fit(features)"
      ],
      "metadata": {
        "colab": {
          "base_uri": "https://localhost:8080/"
        },
        "id": "rDaJAgwQyWT2",
        "outputId": "fc900803-2b43-4dc4-9065-1b7380a2fbb1"
      },
      "execution_count": 15,
      "outputs": [
        {
          "output_type": "execute_result",
          "data": {
            "text/plain": [
              "KMeans(max_iter=50, n_clusters=20)"
            ]
          },
          "metadata": {},
          "execution_count": 15
        }
      ]
    },
    {
      "cell_type": "code",
      "source": [
        "#Clusters centroids\n",
        "centroids = kmeans.cluster_centers_.argsort()[:, ::-1] ## Indices of largest centroids' entries in descending order\n",
        "terms = vectorizer.get_feature_names()\n",
        "for i in range(20):\n",
        "    print(\"Cluster %d:\" % i, end='')\n",
        "    for ind in centroids[i, :10]:\n",
        "        print(' %s' % terms[ind], end='')\n",
        "    print()"
      ],
      "metadata": {
        "colab": {
          "base_uri": "https://localhost:8080/"
        },
        "id": "zvwQJk-G7uvH",
        "outputId": "284c94cb-d7d7-4251-b91a-1d1d3e22e620"
      },
      "execution_count": 24,
      "outputs": [
        {
          "output_type": "stream",
          "name": "stdout",
          "text": [
            "Cluster 0: god jesus christ bible believe faith sin christians christian people\n",
            "Cluster 1: drive scsi ide drives hard disk controller floppy cd hd\n",
            "Cluster 2: israel jews armenian israeli armenians arab turkish jewish arabs people\n",
            "Cluster 3: card monitor video bus board cards apple vga ram motherboard\n",
            "Cluster 4: car cars engine miles dealer oil good new ford like\n",
            "Cluster 5: just like don ve think space bike good time use\n",
            "Cluster 6: people don think government right gun just like say know\n",
            "Cluster 7: 00 10 ax 11 25 15 20 50 12 13\n",
            "Cluster 8: key encryption chip clipper keys escrow government algorithm des phone\n",
            "Cluster 9: windows dos ms file os files run running program use\n",
            "Cluster 10: edu com think like use time does new used don\n",
            "Cluster 11: sale offer shipping condition price asking new sell interested email\n",
            "Cluster 12: deleted stuff turkey truelove leftover served christmas day just like\n",
            "Cluster 13: dsl n3jxp cadre chastity geb intellect skepticism shameful pitt surrender\n",
            "Cluster 14: thanks advance mail hi info looking does know address email\n",
            "Cluster 15: file window files program server image use display motif format\n",
            "Cluster 16: book books read good reference chapter time guide chemistry think\n",
            "Cluster 17: fbi koresh batf compound did children warrant atf gas davidians\n",
            "Cluster 18: know does don like anybody let just need thanks want\n",
            "Cluster 19: game team games year hockey players baseball season play espn\n"
          ]
        }
      ]
    }
  ]
}